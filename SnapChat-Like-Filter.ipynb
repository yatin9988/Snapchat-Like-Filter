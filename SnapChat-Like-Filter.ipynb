{
 "cells": [
  {
   "cell_type": "code",
   "execution_count": 5,
   "metadata": {},
   "outputs": [],
   "source": [
    "import numpy as np\n",
    "import matplotlib.pyplot as plt\n",
    "import cv2"
   ]
  },
  {
   "cell_type": "code",
   "execution_count": 6,
   "metadata": {},
   "outputs": [],
   "source": [
    "face_classifier = cv2.CascadeClassifier(\"haarcascade_frontalface_alt.xml\")\n",
    "eye_classifier = cv2.CascadeClassifier(\"frontalEyes35x16.xml\")\n",
    "glasses = cv2.imread(\"glasses.png\",-1)\n",
    "glass = glasses[:,:,[0,1,2]]"
   ]
  },
  {
   "cell_type": "code",
   "execution_count": 7,
   "metadata": {},
   "outputs": [],
   "source": [
    "cam = cv2.VideoCapture(0)"
   ]
  },
  {
   "cell_type": "code",
   "execution_count": null,
   "metadata": {},
   "outputs": [],
   "source": [
    "while True:\n",
    "    \n",
    "    ret,frame = cam.read()\n",
    "    if ret == False:\n",
    "        continue\n",
    "        \n",
    "    faces = face_classifier.detectMultiScale(frame,1.1,5)\n",
    "    img2 = 0\n",
    "    for face in faces:\n",
    "        x,y,w,h = face\n",
    "#         img = cv2.rectangle(frame,(x,y),(x+w,y+h),(255,255,255,0),2)\n",
    "        eyes = eye_classifier.detectMultiScale(img,1.1,5)\n",
    "        for eye in eyes:\n",
    "            \n",
    "            x,y,h,w = eye\n",
    "#             img2 = cv2.rectangle(img,(x,y),(x+w,y+h),(255,0,0),2)\n",
    "            glasses = cv2.resize(glasses,(w,h))\n",
    "\n",
    "            for i in range(h):\n",
    "                for j in range(w):\n",
    "                    if glasses[i,j,3]>0:\n",
    "                        frame[y+i][x+j] = glass[i][j]    \n",
    "            \n",
    "            \n",
    "    cv2.imshow(\"Live Feed\",frame)\n",
    "    \n",
    "    key_pressed = cv2.waitKey(1) & 0xFF\n",
    "    if key_pressed == ord('q'):\n",
    "        break\n",
    "        \n",
    "cam.release()        \n",
    "cv2.destroyAllWindows()        \n",
    "    "
   ]
  },
  {
   "cell_type": "code",
   "execution_count": null,
   "metadata": {},
   "outputs": [],
   "source": []
  }
 ],
 "metadata": {
  "kernelspec": {
   "display_name": "Python 3",
   "language": "python",
   "name": "python3"
  },
  "language_info": {
   "codemirror_mode": {
    "name": "ipython",
    "version": 3
   },
   "file_extension": ".py",
   "mimetype": "text/x-python",
   "name": "python",
   "nbconvert_exporter": "python",
   "pygments_lexer": "ipython3",
   "version": "3.7.1"
  }
 },
 "nbformat": 4,
 "nbformat_minor": 2
}
